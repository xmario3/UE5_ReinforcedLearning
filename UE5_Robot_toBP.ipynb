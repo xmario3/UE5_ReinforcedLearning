{
 "cells": [
  {
   "cell_type": "markdown",
   "metadata": {},
   "source": [
    "Import di base"
   ]
  },
  {
   "cell_type": "code",
   "execution_count": 1,
   "metadata": {},
   "outputs": [],
   "source": [
    "from gym import Env\n",
    "from gym.spaces import Discrete, Box, MultiDiscrete\n",
    "\n",
    "from IPython.display import clear_output\n",
    "\n",
    "import numpy as np\n",
    "import random\n",
    "import socket\n",
    "import time\n",
    "\n",
    "import struct\n",
    "\n"
   ]
  },
  {
   "cell_type": "code",
   "execution_count": 2,
   "metadata": {},
   "outputs": [
    {
     "name": "stdout",
     "output_type": "stream",
     "text": [
      "Aperto socket con UE5: ('127.0.0.1', 56288)\n"
     ]
    }
   ],
   "source": [
    "# definizioni variabili globali ==================================================================\n",
    "HOST = \"127.0.0.1\"\n",
    "PORT = 7001\n",
    "PACKET_SIZE = 1024\n",
    "\n",
    "PacketCounter = 0\n",
    "PacketCounter_lastCheck = 0\n",
    "\n",
    "# definizioni funzioni =======================================================\n",
    "\n",
    "#creo socket e lo faccio partire\n",
    "def CreaSocket():\n",
    "    # creo socket server per UE5\n",
    "    MySocket = socket.socket(socket.AF_INET, socket.SOCK_STREAM)\n",
    "\n",
    "    #Bindo il socket \n",
    "    MySocket.bind((HOST,PORT))\n",
    "\n",
    "    #accendo il socket in ascolto\n",
    "    MySocket.listen()\n",
    "\n",
    "    return MySocket\n",
    "\n",
    "\n",
    "#ciclo di attesa connesione\n",
    "def AttesaConnesione(MySocket):\n",
    "    while True:\n",
    "        RemoteConnection , RemoteAddress = MySocket.accept()\n",
    "        MySocket.close()\n",
    "        break\n",
    "    return RemoteConnection,RemoteAddress\n",
    "\n",
    "#funzione per sampolare il robot di unreal\n",
    "def MandaRicevi_Robot(MySocket, R_Start=0.0, R_Arm_1=0.0, R_Arm_2=0.0, R_Arm_3=0.0, R_Arm_4=0.0, R_End=0.0):\n",
    "    MySocket.sendall(bytes(\n",
    "                    str(R_Start) +\"|\"+ \n",
    "                    str(R_Arm_1) +\"|\"+ \n",
    "                    str(R_Arm_2) +\"|\"+ \n",
    "                    str(R_Arm_3) +\"|\"+ \n",
    "                    str(R_Arm_4) +\"|\"+ \n",
    "                    str(R_End)\n",
    "                    ,\"utf-8\"))\n",
    "    \n",
    "    ReceivedData = MySocket.recv(PACKET_SIZE)\n",
    "    # ricevi in stringa //ReceivedData = ReceivedData.decode(\"utf-8\")\n",
    "    print(ReceivedData)\n",
    "    print(struct.unpack(\"f\",ReceivedData))\n",
    "    return float(ReceivedData)\n",
    "\n",
    "# classe environment di gioco =============================================\n",
    "\n",
    "class RobotEnv(Env):\n",
    "    def __init__(self):\n",
    "        # azioni che possiamo fare\n",
    "        self.action_space = Discrete(6)\n",
    "        # Array distanze dal target\n",
    "        self.observation_space = Box(low=-10000,high=10000,shape=(3,))\n",
    "        # distanza di partenza\n",
    "        self.state = [0.0,0.0,0.0]\n",
    "\n",
    "        self.angoloAttuale_1 = random.uniform(-120,120)\n",
    "        self.angoloAttuale_2 = random.uniform(0,90)\n",
    "\n",
    "        # lunghezza esercizio\n",
    "        self.Exercise_length = 800\n",
    "\n",
    "    def step(self, action,verbosita=False):\n",
    "        global UE5_Socket\n",
    "        \n",
    "        # applichiamo azione\n",
    "        \n",
    "        if action == 0:\n",
    "            self.angoloAttuale_1 += 2\n",
    "        elif action == 1:\n",
    "            self.angoloAttuale_1 -= 2\n",
    "        elif action == 2:\n",
    "            pass\n",
    "\n",
    "        if action == 3:\n",
    "            self.angoloAttuale_2 += 2\n",
    "        elif action == 4:\n",
    "            self.angoloAttuale_2 -= 2\n",
    "        elif action == 5:\n",
    "            pass\n",
    "\n",
    "        self.state[2] = self.angoloAttuale_2\n",
    "        self.state[1] = self.angoloAttuale_1\n",
    "        self.state[0] = MandaRicevi_Robot(UE5_Socket, -90.0, self.angoloAttuale_1, self.angoloAttuale_2)\n",
    "\n",
    "        # riduzione tempo \n",
    "        self.Exercise_length -= 1\n",
    "\n",
    "        #calcolo reward\n",
    "        if self.state[0] <= 40:\n",
    "            reward = 1\n",
    "        else:\n",
    "            reward = -3 * (self.state[0] / 100)\n",
    "\n",
    "        done = False\n",
    "\n",
    "        #verfica se tempo finito\n",
    "        if self.Exercise_length <= 0:\n",
    "            done = True\n",
    "        else:\n",
    "            done = False\n",
    "               \n",
    "        # segnaposto per info\n",
    "        info = {}\n",
    "        \n",
    "        # ritorniamo informazioin sullo step\n",
    "        return self.state, reward, done, info\n",
    "\n",
    "    def render(self,mode=0):\n",
    "        print(\"Tempo: \"+str(self.Exercise_length) + \"-- distanza: \" + str(self.state))\n",
    "\n",
    "    def reset(self):\n",
    "        #resettiamo temperatura\n",
    "        self.angoloAttuale_1 = random.uniform(-120,120)\n",
    "        self.angoloAttuale_2 = random.uniform(0,90)\n",
    "        self.state = [0.0,0.0,0.0]\n",
    "        # resettiamo tempo\n",
    "        self.Exercise_length = 800\n",
    "        return self.state\n",
    "\n",
    "# codice ==================================================================\n",
    "\n",
    "#creo e ascolto\n",
    "Server_Socket = CreaSocket()\n",
    "\n",
    "#attendo e connetto con UE5 \n",
    "UE5_Socket , UE5_Address = AttesaConnesione(Server_Socket)\n",
    "\n",
    "#confermo connesione aperta\n",
    "print(f\"Aperto socket con UE5: {UE5_Address}\")\n",
    "\n",
    "\n",
    "SimpleRobotEnv = RobotEnv()\n"
   ]
  },
  {
   "cell_type": "code",
   "execution_count": 6,
   "metadata": {},
   "outputs": [
    {
     "name": "stdout",
     "output_type": "stream",
     "text": [
      "Tempo: 800-- distanza: [0.0, 0.0, 0.0]\n"
     ]
    },
    {
     "ename": "ConnectionResetError",
     "evalue": "[WinError 10054] An existing connection was forcibly closed by the remote host",
     "output_type": "error",
     "traceback": [
      "\u001b[1;31m---------------------------------------------------------------------------\u001b[0m",
      "\u001b[1;31mConnectionResetError\u001b[0m                      Traceback (most recent call last)",
      "\u001b[1;32m<ipython-input-6-797e8edf16fc>\u001b[0m in \u001b[0;36m<module>\u001b[1;34m\u001b[0m\n\u001b[0;32m      9\u001b[0m         \u001b[0mSimpleRobotEnv\u001b[0m\u001b[1;33m.\u001b[0m\u001b[0mrender\u001b[0m\u001b[1;33m(\u001b[0m\u001b[0mmode\u001b[0m\u001b[1;33m=\u001b[0m\u001b[1;36m0\u001b[0m\u001b[1;33m)\u001b[0m\u001b[1;33m\u001b[0m\u001b[1;33m\u001b[0m\u001b[0m\n\u001b[0;32m     10\u001b[0m         \u001b[0maction\u001b[0m \u001b[1;33m=\u001b[0m \u001b[0mSimpleRobotEnv\u001b[0m\u001b[1;33m.\u001b[0m\u001b[0maction_space\u001b[0m\u001b[1;33m.\u001b[0m\u001b[0msample\u001b[0m\u001b[1;33m(\u001b[0m\u001b[1;33m)\u001b[0m\u001b[1;33m\u001b[0m\u001b[1;33m\u001b[0m\u001b[0m\n\u001b[1;32m---> 11\u001b[1;33m         \u001b[0mn_state\u001b[0m\u001b[1;33m,\u001b[0m \u001b[0mreward\u001b[0m\u001b[1;33m,\u001b[0m \u001b[0mdone\u001b[0m\u001b[1;33m,\u001b[0m \u001b[0minfo\u001b[0m \u001b[1;33m=\u001b[0m \u001b[0mSimpleRobotEnv\u001b[0m\u001b[1;33m.\u001b[0m\u001b[0mstep\u001b[0m\u001b[1;33m(\u001b[0m\u001b[0maction\u001b[0m\u001b[1;33m)\u001b[0m\u001b[1;33m\u001b[0m\u001b[1;33m\u001b[0m\u001b[0m\n\u001b[0m\u001b[0;32m     12\u001b[0m         \u001b[0mscore\u001b[0m\u001b[1;33m+=\u001b[0m\u001b[0mreward\u001b[0m\u001b[1;33m\u001b[0m\u001b[1;33m\u001b[0m\u001b[0m\n\u001b[0;32m     13\u001b[0m     \u001b[0mprint\u001b[0m\u001b[1;33m(\u001b[0m\u001b[1;34m'Episode:{} Score:{}'\u001b[0m\u001b[1;33m.\u001b[0m\u001b[0mformat\u001b[0m\u001b[1;33m(\u001b[0m\u001b[0mepisode\u001b[0m\u001b[1;33m,\u001b[0m \u001b[0mscore\u001b[0m\u001b[1;33m)\u001b[0m\u001b[1;33m)\u001b[0m\u001b[1;33m\u001b[0m\u001b[1;33m\u001b[0m\u001b[0m\n",
      "\u001b[1;32m<ipython-input-2-2480ce0d9e99>\u001b[0m in \u001b[0;36mstep\u001b[1;34m(self, action, verbosita)\u001b[0m\n\u001b[0;32m     84\u001b[0m         \u001b[0mself\u001b[0m\u001b[1;33m.\u001b[0m\u001b[0mstate\u001b[0m\u001b[1;33m[\u001b[0m\u001b[1;36m2\u001b[0m\u001b[1;33m]\u001b[0m \u001b[1;33m=\u001b[0m \u001b[0mself\u001b[0m\u001b[1;33m.\u001b[0m\u001b[0mangoloAttuale_2\u001b[0m\u001b[1;33m\u001b[0m\u001b[1;33m\u001b[0m\u001b[0m\n\u001b[0;32m     85\u001b[0m         \u001b[0mself\u001b[0m\u001b[1;33m.\u001b[0m\u001b[0mstate\u001b[0m\u001b[1;33m[\u001b[0m\u001b[1;36m1\u001b[0m\u001b[1;33m]\u001b[0m \u001b[1;33m=\u001b[0m \u001b[0mself\u001b[0m\u001b[1;33m.\u001b[0m\u001b[0mangoloAttuale_1\u001b[0m\u001b[1;33m\u001b[0m\u001b[1;33m\u001b[0m\u001b[0m\n\u001b[1;32m---> 86\u001b[1;33m         \u001b[0mself\u001b[0m\u001b[1;33m.\u001b[0m\u001b[0mstate\u001b[0m\u001b[1;33m[\u001b[0m\u001b[1;36m0\u001b[0m\u001b[1;33m]\u001b[0m \u001b[1;33m=\u001b[0m \u001b[0mMandaRicevi_Robot\u001b[0m\u001b[1;33m(\u001b[0m\u001b[0mUE5_Socket\u001b[0m\u001b[1;33m,\u001b[0m \u001b[1;33m-\u001b[0m\u001b[1;36m90.0\u001b[0m\u001b[1;33m,\u001b[0m \u001b[0mself\u001b[0m\u001b[1;33m.\u001b[0m\u001b[0mangoloAttuale_1\u001b[0m\u001b[1;33m,\u001b[0m \u001b[0mself\u001b[0m\u001b[1;33m.\u001b[0m\u001b[0mangoloAttuale_2\u001b[0m\u001b[1;33m)\u001b[0m\u001b[1;33m\u001b[0m\u001b[1;33m\u001b[0m\u001b[0m\n\u001b[0m\u001b[0;32m     87\u001b[0m \u001b[1;33m\u001b[0m\u001b[0m\n\u001b[0;32m     88\u001b[0m         \u001b[1;31m# riduzione tempo\u001b[0m\u001b[1;33m\u001b[0m\u001b[1;33m\u001b[0m\u001b[1;33m\u001b[0m\u001b[0m\n",
      "\u001b[1;32m<ipython-input-2-2480ce0d9e99>\u001b[0m in \u001b[0;36mMandaRicevi_Robot\u001b[1;34m(MySocket, R_Start, R_Arm_1, R_Arm_2, R_Arm_3, R_Arm_4, R_End)\u001b[0m\n\u001b[0;32m     40\u001b[0m                     \u001b[0mstr\u001b[0m\u001b[1;33m(\u001b[0m\u001b[0mR_Arm_4\u001b[0m\u001b[1;33m)\u001b[0m \u001b[1;33m+\u001b[0m\u001b[1;34m\"|\"\u001b[0m\u001b[1;33m+\u001b[0m\u001b[1;33m\u001b[0m\u001b[1;33m\u001b[0m\u001b[0m\n\u001b[0;32m     41\u001b[0m                     \u001b[0mstr\u001b[0m\u001b[1;33m(\u001b[0m\u001b[0mR_End\u001b[0m\u001b[1;33m)\u001b[0m\u001b[1;33m\u001b[0m\u001b[1;33m\u001b[0m\u001b[0m\n\u001b[1;32m---> 42\u001b[1;33m                     ,\"utf-8\"))\n\u001b[0m\u001b[0;32m     43\u001b[0m \u001b[1;33m\u001b[0m\u001b[0m\n\u001b[0;32m     44\u001b[0m     \u001b[0mReceivedData\u001b[0m \u001b[1;33m=\u001b[0m \u001b[0mMySocket\u001b[0m\u001b[1;33m.\u001b[0m\u001b[0mrecv\u001b[0m\u001b[1;33m(\u001b[0m\u001b[0mPACKET_SIZE\u001b[0m\u001b[1;33m)\u001b[0m\u001b[1;33m\u001b[0m\u001b[1;33m\u001b[0m\u001b[0m\n",
      "\u001b[1;31mConnectionResetError\u001b[0m: [WinError 10054] An existing connection was forcibly closed by the remote host"
     ]
    }
   ],
   "source": [
    "# giro di prova dell'exercise\n",
    "episodes = 1\n",
    "for episode in range(1, episodes+1):\n",
    "    state = SimpleRobotEnv.reset()\n",
    "    done = False\n",
    "    score = 0 \n",
    "    \n",
    "    while not done:\n",
    "        SimpleRobotEnv.render(mode=0)\n",
    "        action = SimpleRobotEnv.action_space.sample()\n",
    "        n_state, reward, done, info = SimpleRobotEnv.step(action)\n",
    "        score+=reward\n",
    "    print('Episode:{} Score:{}'.format(episode, score))"
   ]
  },
  {
   "cell_type": "code",
   "execution_count": 57,
   "metadata": {},
   "outputs": [],
   "source": [
    "from tensorflow.keras.models import Sequential\n",
    "from tensorflow.keras.layers import Dense,Flatten\n",
    "from tensorflow.keras.optimizers import Adam\n",
    "import tensorflow\n",
    "tensorflow.device(\"cpu:0\")\n",
    "\n",
    "states = SimpleRobotEnv.observation_space.shape\n",
    "actions = SimpleRobotEnv.action_space.n\n",
    "\n",
    "def build_model(states,actions):\n",
    "    model = Sequential()\n",
    "    model.add(Flatten(input_shape=(1,) + SimpleRobotEnv.observation_space.shape))\n",
    "    model.add(Dense(64,activation=\"relu\"))\n",
    "    model.add(Dense(64,activation=\"relu\"))\n",
    "    model.add(Dense(64,activation=\"relu\"))\n",
    "    model.add(Dense(actions,activation=\"linear\"))\n",
    "    return model"
   ]
  },
  {
   "cell_type": "code",
   "execution_count": 58,
   "metadata": {},
   "outputs": [],
   "source": [
    "del model # da usare quando da errore sotto"
   ]
  },
  {
   "cell_type": "code",
   "execution_count": 59,
   "metadata": {},
   "outputs": [
    {
     "name": "stdout",
     "output_type": "stream",
     "text": [
      "Model: \"sequential_5\"\n",
      "_________________________________________________________________\n",
      "Layer (type)                 Output Shape              Param #   \n",
      "=================================================================\n",
      "flatten_5 (Flatten)          (None, 3)                 0         \n",
      "_________________________________________________________________\n",
      "dense_20 (Dense)             (None, 64)                256       \n",
      "_________________________________________________________________\n",
      "dense_21 (Dense)             (None, 64)                4160      \n",
      "_________________________________________________________________\n",
      "dense_22 (Dense)             (None, 64)                4160      \n",
      "_________________________________________________________________\n",
      "dense_23 (Dense)             (None, 6)                 390       \n",
      "=================================================================\n",
      "Total params: 8,966\n",
      "Trainable params: 8,966\n",
      "Non-trainable params: 0\n",
      "_________________________________________________________________\n"
     ]
    }
   ],
   "source": [
    "model = build_model(states,actions)\n",
    "model.summary()"
   ]
  },
  {
   "cell_type": "code",
   "execution_count": 60,
   "metadata": {},
   "outputs": [],
   "source": [
    "from rl.agents import DQNAgent\n",
    "from rl.policy import BoltzmannGumbelQPolicy\n",
    "from rl.memory import SequentialMemory\n",
    "\n",
    "def build_agent(model, actions):\n",
    "    policy = BoltzmannGumbelQPolicy()\n",
    "    memory = SequentialMemory(limit=50000,window_length=1)\n",
    "    dqn = DQNAgent(model=model, memory=memory, policy=policy, nb_actions=actions, nb_steps_warmup=10, target_model_update=1e-2)\n",
    "    \n",
    "    return dqn"
   ]
  },
  {
   "cell_type": "code",
   "execution_count": 61,
   "metadata": {},
   "outputs": [
    {
     "name": "stdout",
     "output_type": "stream",
     "text": [
      "Training for 500000 steps ...\n",
      "Interval 1 (0 steps performed)\n",
      " 9718/10000 [============================>.] - ETA: 12s - reward: -3.3213done, took 418.277 seconds\n"
     ]
    },
    {
     "data": {
      "text/plain": [
       "<tensorflow.python.keras.callbacks.History at 0x25a1acfa940>"
      ]
     },
     "execution_count": 61,
     "metadata": {},
     "output_type": "execute_result"
    }
   ],
   "source": [
    "dqn = build_agent(model, actions)\n",
    "dqn.compile(Adam(learning_rate=1e-3),metrics=[\"mae\"])\n",
    "dqn.fit(SimpleRobotEnv, nb_steps=500000,visualize=False,verbose=1)"
   ]
  },
  {
   "cell_type": "code",
   "execution_count": 84,
   "metadata": {},
   "outputs": [
    {
     "name": "stdout",
     "output_type": "stream",
     "text": [
      "Testing for 10 episodes ...\n",
      "Episode 1: reward: 896.452, steps: 1000\n",
      "Episode 2: reward: 985.179, steps: 1000\n",
      "Episode 3: reward: 1000.000, steps: 1000\n",
      "Episode 4: reward: 972.865, steps: 1000\n",
      "Episode 5: reward: 637.557, steps: 1000\n",
      "Episode 6: reward: 966.683, steps: 1000\n"
     ]
    },
    {
     "ename": "KeyboardInterrupt",
     "evalue": "",
     "output_type": "error",
     "traceback": [
      "\u001b[1;31m---------------------------------------------------------------------------\u001b[0m",
      "\u001b[1;31mKeyboardInterrupt\u001b[0m                         Traceback (most recent call last)",
      "\u001b[1;32m<ipython-input-84-64b867f32fea>\u001b[0m in \u001b[0;36m<module>\u001b[1;34m\u001b[0m\n\u001b[1;32m----> 1\u001b[1;33m \u001b[0mscores\u001b[0m \u001b[1;33m=\u001b[0m \u001b[0mdqn\u001b[0m\u001b[1;33m.\u001b[0m\u001b[0mtest\u001b[0m\u001b[1;33m(\u001b[0m\u001b[0mSimpleRobotEnv\u001b[0m\u001b[1;33m,\u001b[0m \u001b[0mnb_episodes\u001b[0m\u001b[1;33m=\u001b[0m\u001b[1;36m10\u001b[0m\u001b[1;33m,\u001b[0m\u001b[0mvisualize\u001b[0m\u001b[1;33m=\u001b[0m\u001b[1;32mFalse\u001b[0m\u001b[1;33m)\u001b[0m\u001b[1;33m\u001b[0m\u001b[1;33m\u001b[0m\u001b[0m\n\u001b[0m\u001b[0;32m      2\u001b[0m \u001b[0mprint\u001b[0m\u001b[1;33m(\u001b[0m\u001b[0mnp\u001b[0m\u001b[1;33m.\u001b[0m\u001b[0mmean\u001b[0m\u001b[1;33m(\u001b[0m\u001b[0mscores\u001b[0m\u001b[1;33m.\u001b[0m\u001b[0mhistory\u001b[0m\u001b[1;33m[\u001b[0m\u001b[1;34m\"episode_reward\"\u001b[0m\u001b[1;33m]\u001b[0m\u001b[1;33m)\u001b[0m\u001b[1;33m)\u001b[0m\u001b[1;33m\u001b[0m\u001b[1;33m\u001b[0m\u001b[0m\n",
      "\u001b[1;32mc:\\Users\\xmari\\.conda\\envs\\aaaa\\lib\\site-packages\\rl\\core.py\u001b[0m in \u001b[0;36mtest\u001b[1;34m(self, env, nb_episodes, action_repetition, callbacks, visualize, nb_max_episode_steps, nb_max_start_steps, start_step_policy, verbose)\u001b[0m\n\u001b[0;32m    347\u001b[0m                 \u001b[1;32mfor\u001b[0m \u001b[0m_\u001b[0m \u001b[1;32min\u001b[0m \u001b[0mrange\u001b[0m\u001b[1;33m(\u001b[0m\u001b[0maction_repetition\u001b[0m\u001b[1;33m)\u001b[0m\u001b[1;33m:\u001b[0m\u001b[1;33m\u001b[0m\u001b[1;33m\u001b[0m\u001b[0m\n\u001b[0;32m    348\u001b[0m                     \u001b[0mcallbacks\u001b[0m\u001b[1;33m.\u001b[0m\u001b[0mon_action_begin\u001b[0m\u001b[1;33m(\u001b[0m\u001b[0maction\u001b[0m\u001b[1;33m)\u001b[0m\u001b[1;33m\u001b[0m\u001b[1;33m\u001b[0m\u001b[0m\n\u001b[1;32m--> 349\u001b[1;33m                     \u001b[0mobservation\u001b[0m\u001b[1;33m,\u001b[0m \u001b[0mr\u001b[0m\u001b[1;33m,\u001b[0m \u001b[0md\u001b[0m\u001b[1;33m,\u001b[0m \u001b[0minfo\u001b[0m \u001b[1;33m=\u001b[0m \u001b[0menv\u001b[0m\u001b[1;33m.\u001b[0m\u001b[0mstep\u001b[0m\u001b[1;33m(\u001b[0m\u001b[0maction\u001b[0m\u001b[1;33m)\u001b[0m\u001b[1;33m\u001b[0m\u001b[1;33m\u001b[0m\u001b[0m\n\u001b[0m\u001b[0;32m    350\u001b[0m                     \u001b[0mobservation\u001b[0m \u001b[1;33m=\u001b[0m \u001b[0mdeepcopy\u001b[0m\u001b[1;33m(\u001b[0m\u001b[0mobservation\u001b[0m\u001b[1;33m)\u001b[0m\u001b[1;33m\u001b[0m\u001b[1;33m\u001b[0m\u001b[0m\n\u001b[0;32m    351\u001b[0m                     \u001b[1;32mif\u001b[0m \u001b[0mself\u001b[0m\u001b[1;33m.\u001b[0m\u001b[0mprocessor\u001b[0m \u001b[1;32mis\u001b[0m \u001b[1;32mnot\u001b[0m \u001b[1;32mNone\u001b[0m\u001b[1;33m:\u001b[0m\u001b[1;33m\u001b[0m\u001b[1;33m\u001b[0m\u001b[0m\n",
      "\u001b[1;32m<ipython-input-77-2eae3b5d45d4>\u001b[0m in \u001b[0;36mstep\u001b[1;34m(self, action, verbosita)\u001b[0m\n\u001b[0;32m     74\u001b[0m \u001b[1;33m\u001b[0m\u001b[0m\n\u001b[0;32m     75\u001b[0m         \u001b[0mself\u001b[0m\u001b[1;33m.\u001b[0m\u001b[0mstate\u001b[0m\u001b[1;33m[\u001b[0m\u001b[1;36m1\u001b[0m\u001b[1;33m]\u001b[0m \u001b[1;33m=\u001b[0m \u001b[0mself\u001b[0m\u001b[1;33m.\u001b[0m\u001b[0mangoloAttuale_1\u001b[0m\u001b[1;33m\u001b[0m\u001b[1;33m\u001b[0m\u001b[0m\n\u001b[1;32m---> 76\u001b[1;33m         \u001b[0mself\u001b[0m\u001b[1;33m.\u001b[0m\u001b[0mstate\u001b[0m\u001b[1;33m[\u001b[0m\u001b[1;36m0\u001b[0m\u001b[1;33m]\u001b[0m \u001b[1;33m=\u001b[0m \u001b[0mMandaRicevi_Robot\u001b[0m\u001b[1;33m(\u001b[0m\u001b[0mUE5_Socket\u001b[0m\u001b[1;33m,\u001b[0m\u001b[1;33m-\u001b[0m\u001b[1;36m90.0\u001b[0m\u001b[1;33m,\u001b[0m\u001b[0mself\u001b[0m\u001b[1;33m.\u001b[0m\u001b[0mangoloAttuale_1\u001b[0m\u001b[1;33m)\u001b[0m \u001b[1;31m#,self.angoloAttuale_2)\u001b[0m\u001b[1;33m\u001b[0m\u001b[1;33m\u001b[0m\u001b[0m\n\u001b[0m\u001b[0;32m     77\u001b[0m \u001b[1;33m\u001b[0m\u001b[0m\n\u001b[0;32m     78\u001b[0m         \u001b[1;31m# riduzione tempo doccia\u001b[0m\u001b[1;33m\u001b[0m\u001b[1;33m\u001b[0m\u001b[1;33m\u001b[0m\u001b[0m\n",
      "\u001b[1;32m<ipython-input-77-2eae3b5d45d4>\u001b[0m in \u001b[0;36mMandaRicevi_Robot\u001b[1;34m(MySocket, R_Start, R_Arm_1, R_Arm_2, R_Arm_3, R_Arm_4, R_End)\u001b[0m\n\u001b[0;32m     42\u001b[0m                     ,\"utf-8\"))\n\u001b[0;32m     43\u001b[0m \u001b[1;33m\u001b[0m\u001b[0m\n\u001b[1;32m---> 44\u001b[1;33m     \u001b[0mReceivedData\u001b[0m \u001b[1;33m=\u001b[0m \u001b[0mMySocket\u001b[0m\u001b[1;33m.\u001b[0m\u001b[0mrecv\u001b[0m\u001b[1;33m(\u001b[0m\u001b[0mPACKET_SIZE\u001b[0m\u001b[1;33m)\u001b[0m\u001b[1;33m\u001b[0m\u001b[1;33m\u001b[0m\u001b[0m\n\u001b[0m\u001b[0;32m     45\u001b[0m     \u001b[0mReceivedData\u001b[0m \u001b[1;33m=\u001b[0m \u001b[0mReceivedData\u001b[0m\u001b[1;33m.\u001b[0m\u001b[0mdecode\u001b[0m\u001b[1;33m(\u001b[0m\u001b[1;34m\"utf-8\"\u001b[0m\u001b[1;33m)\u001b[0m\u001b[1;33m\u001b[0m\u001b[1;33m\u001b[0m\u001b[0m\n\u001b[0;32m     46\u001b[0m     \u001b[1;32mreturn\u001b[0m \u001b[0mfloat\u001b[0m\u001b[1;33m(\u001b[0m\u001b[0mReceivedData\u001b[0m\u001b[1;33m)\u001b[0m\u001b[1;33m\u001b[0m\u001b[1;33m\u001b[0m\u001b[0m\n",
      "\u001b[1;31mKeyboardInterrupt\u001b[0m: "
     ]
    }
   ],
   "source": [
    "scores = dqn.test(SimpleRobotEnv, nb_episodes=10,visualize=False)\n",
    "print(np.mean(scores.history[\"episode_reward\"]))"
   ]
  },
  {
   "cell_type": "markdown",
   "metadata": {},
   "source": [
    "Chiusure varie"
   ]
  },
  {
   "cell_type": "code",
   "execution_count": null,
   "metadata": {},
   "outputs": [],
   "source": [
    "# spengo socket prima di uscire\n",
    "UE5_Socket.shutdown(socket.SHUT_RDWR)\n",
    "UE5_Socket.close()"
   ]
  },
  {
   "cell_type": "markdown",
   "metadata": {},
   "source": [
    "Codice vario utile:"
   ]
  },
  {
   "cell_type": "code",
   "execution_count": null,
   "metadata": {},
   "outputs": [
    {
     "data": {
      "text/plain": [
       "'\\nDistanzaAttuale = MandaRicevi_Robot(\\n                            UE5_Socket,\\n                            random.uniform(-230.0,230.0),\\n                            random.uniform(-230.0,230.0),\\n                            random.uniform(-230.0,230.0),\\n                            random.uniform(-230.0,230.0),\\n                            random.uniform(-230.0,230.0),\\n                            random.uniform(-230.0,230.0)\\n                            )\\n'"
      ]
     },
     "execution_count": 31,
     "metadata": {},
     "output_type": "execute_result"
    }
   ],
   "source": [
    "'''\n",
    "DistanzaAttuale = MandaRicevi_Robot(\n",
    "                            UE5_Socket,\n",
    "                            random.uniform(-230.0,230.0),\n",
    "                            random.uniform(-230.0,230.0),\n",
    "                            random.uniform(-230.0,230.0),\n",
    "                            random.uniform(-230.0,230.0),\n",
    "                            random.uniform(-230.0,230.0),\n",
    "                            random.uniform(-230.0,230.0)\n",
    "                            )\n",
    "'''"
   ]
  }
 ],
 "metadata": {
  "interpreter": {
   "hash": "04b0cf7909feb94e312965e4ad6463a8e2a10d97ff43909a0b56676f084ebc75"
  },
  "kernelspec": {
   "display_name": "Python 3.6.13 ('aaaa')",
   "language": "python",
   "name": "python3"
  },
  "language_info": {
   "codemirror_mode": {
    "name": "ipython",
    "version": 3
   },
   "file_extension": ".py",
   "mimetype": "text/x-python",
   "name": "python",
   "nbconvert_exporter": "python",
   "pygments_lexer": "ipython3",
   "version": "3.6.13"
  },
  "orig_nbformat": 4
 },
 "nbformat": 4,
 "nbformat_minor": 2
}
