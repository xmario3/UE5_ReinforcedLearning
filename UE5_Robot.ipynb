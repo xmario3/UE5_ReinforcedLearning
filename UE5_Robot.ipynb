{
 "cells": [
  {
   "cell_type": "markdown",
   "metadata": {},
   "source": [
    "Import di base"
   ]
  },
  {
   "cell_type": "code",
   "execution_count": 1,
   "metadata": {},
   "outputs": [],
   "source": [
    "from gym import Env\n",
    "from gym.spaces import Discrete, Box\n",
    "\n",
    "from IPython.display import clear_output\n",
    "\n",
    "import numpy as np\n",
    "import random\n",
    "import socket\n",
    "import time\n",
    "\n",
    "#import struct\n"
   ]
  },
  {
   "cell_type": "code",
   "execution_count": 34,
   "metadata": {},
   "outputs": [
    {
     "name": "stdout",
     "output_type": "stream",
     "text": [
      "Aperto socket con UE5: ('127.0.0.1', 51330)\n"
     ]
    },
    {
     "name": "stderr",
     "output_type": "stream",
     "text": [
      "c:\\Users\\xmari\\.conda\\envs\\aaaa\\lib\\site-packages\\gym\\logger.py:30: UserWarning: \u001b[33mWARN: Box bound precision lowered by casting to float32\u001b[0m\n",
      "  warnings.warn(colorize('%s: %s'%('WARN', msg % args), 'yellow'))\n"
     ]
    }
   ],
   "source": [
    "# definizioni variabili globali ==================================================================\n",
    "HOST = \"127.0.0.1\"\n",
    "PORT = 7001\n",
    "PACKET_SIZE = 1024\n",
    "\n",
    "PacketCounter = 0\n",
    "PacketCounter_lastCheck = 0\n",
    "\n",
    "# definizioni funzioni =======================================================\n",
    "\n",
    "#creo socket e lo faccio partire\n",
    "def CreaSocket():\n",
    "    # creo socket server per UE5\n",
    "    MySocket = socket.socket(socket.AF_INET, socket.SOCK_STREAM)\n",
    "\n",
    "    #Bindo il socket \n",
    "    MySocket.bind((HOST,PORT))\n",
    "\n",
    "    #accendo il socket in ascolto\n",
    "    MySocket.listen()\n",
    "\n",
    "    return MySocket\n",
    "\n",
    "\n",
    "#ciclo di attesa connesione\n",
    "def AttesaConnesione(MySocket):\n",
    "    while True:\n",
    "        RemoteConnection , RemoteAddress = MySocket.accept()\n",
    "        MySocket.close()\n",
    "        break\n",
    "    return RemoteConnection,RemoteAddress\n",
    "\n",
    "#funzione per sampolare il robot di unreal\n",
    "def MandaRicevi_Robot(MySocket, R_Start=0.0, R_Arm_1=0.0, R_Arm_2=0.0, R_Arm_3=0.0, R_Arm_4=0.0, R_End=0.0):\n",
    "    MySocket.sendall(bytes(\n",
    "                    str(R_Start) +\"|\"+ \n",
    "                    str(R_Arm_1) +\"|\"+ \n",
    "                    str(R_Arm_2) +\"|\"+ \n",
    "                    str(R_Arm_3) +\"|\"+ \n",
    "                    str(R_Arm_4) +\"|\"+ \n",
    "                    str(R_End)\n",
    "                    ,\"utf-8\"))\n",
    "    \n",
    "    ReceivedData = MySocket.recv(PACKET_SIZE)\n",
    "    ReceivedData = ReceivedData.decode(\"utf-8\")\n",
    "    return float(ReceivedData)\n",
    "\n",
    "# classe environment di gioco =============================================\n",
    "\n",
    "class RobotEnv(Env):\n",
    "    def __init__(self):\n",
    "        # azioni che possiamo fare\n",
    "        self.action_space = Discrete(4)\n",
    "        # Array distanze dal target\n",
    "        self.observation_space = Box(low=np.array([0]),high=np.array([120]))\n",
    "        # distanza di partenza\n",
    "        self.state = 0.0\n",
    "\n",
    "        self.angoloAttuale_1 = random.uniform(0,90)\n",
    "        self.angoloAttuale_2 = random.uniform(0,90)\n",
    "\n",
    "        # lunghezza esercizio\n",
    "        self.Exercise_length = 60\n",
    "\n",
    "    def step(self, action,verbosita=False):\n",
    "        global UE5_Socket\n",
    "        \n",
    "        # applichiamo azione\n",
    "        \n",
    "        if action == 0:\n",
    "            self.angoloAttuale_1 += 1\n",
    "        elif action == 1:\n",
    "            self.angoloAttuale_1 -= 1\n",
    "        elif action == 2:\n",
    "            self.angoloAttuale_2 += 1\n",
    "        elif action == 3:\n",
    "            self.angoloAttuale_2 -= 1\n",
    "\n",
    "        self.state = MandaRicevi_Robot(UE5_Socket,-90.0,self.angoloAttuale_1,self.angoloAttuale_2)\n",
    "\n",
    "        # riduzione tempo doccia\n",
    "        self.Exercise_length -= 1\n",
    "\n",
    "        #calcolo reward\n",
    "        if self.state <= 40:\n",
    "            reward = 1\n",
    "        else:\n",
    "            reward = -3 * (self.state / 100)\n",
    "\n",
    "        #verfica se doccia finita\n",
    "        if self.Exercise_length <= 0:\n",
    "            done = True\n",
    "        else:\n",
    "            done = False\n",
    "        \n",
    "        # segnaposto per info\n",
    "        info = {}\n",
    "        \n",
    "        # ritorniamo informazioin sullo step\n",
    "        return self.state, reward, done, info\n",
    "\n",
    "    def render(self,mode=0):\n",
    "        print(\"Tempo: \"+str(self.Exercise_length) + \"-- distanza: \" + str(self.state))\n",
    "\n",
    "    def reset(self):\n",
    "        #resettiamo temperatura\n",
    "        self.angoloAttuale_1 = random.uniform(0,90)\n",
    "        self.angoloAttuale_2 = random.uniform(0,90)\n",
    "        self.state = 0.0\n",
    "        # resettiamo tempo\n",
    "        self.Exercise_length = 60\n",
    "        return self.state\n",
    "\n",
    "# codice ==================================================================\n",
    "\n",
    "#creo e ascolto\n",
    "Server_Socket = CreaSocket()\n",
    "\n",
    "#attendo e connetto con UE5 \n",
    "UE5_Socket , UE5_Address = AttesaConnesione(Server_Socket)\n",
    "\n",
    "#confermo connesione aperta\n",
    "print(f\"Aperto socket con UE5: {UE5_Address}\")\n",
    "\n",
    "\n",
    "SimpleRobotEnv = RobotEnv()\n"
   ]
  },
  {
   "cell_type": "code",
   "execution_count": 39,
   "metadata": {},
   "outputs": [
    {
     "name": "stdout",
     "output_type": "stream",
     "text": [
      "Tempo: 60-- distanza: 47.744232\n",
      "Tempo: 59-- distanza: 74.062721\n",
      "Tempo: 58-- distanza: 74.062721\n",
      "Tempo: 57-- distanza: 72.136467\n",
      "Tempo: 56-- distanza: 74.062721\n",
      "Tempo: 55-- distanza: 72.136467\n",
      "Tempo: 54-- distanza: 72.136467\n",
      "Tempo: 53-- distanza: 70.216499\n",
      "Tempo: 52-- distanza: 72.136467\n",
      "Tempo: 51-- distanza: 72.136467\n",
      "Tempo: 50-- distanza: 70.216499\n",
      "Tempo: 49-- distanza: 70.216499\n",
      "Tempo: 48-- distanza: 68.303955\n",
      "Tempo: 47-- distanza: 70.216499\n",
      "Tempo: 46-- distanza: 68.303955\n",
      "Tempo: 45-- distanza: 70.216499\n",
      "Tempo: 44-- distanza: 68.303955\n",
      "Tempo: 43-- distanza: 68.303955\n",
      "Tempo: 42-- distanza: 70.216499\n",
      "Tempo: 41-- distanza: 72.136467\n",
      "Tempo: 40-- distanza: 74.062721\n",
      "Tempo: 39-- distanza: 75.994225\n",
      "Tempo: 38-- distanza: 75.994225\n",
      "Tempo: 37-- distanza: 74.062721\n",
      "Tempo: 36-- distanza: 72.136467\n",
      "Tempo: 35-- distanza: 70.216499\n",
      "Tempo: 34-- distanza: 68.303955\n",
      "Tempo: 33-- distanza: 68.303955\n",
      "Tempo: 32-- distanza: 66.400101\n",
      "Tempo: 31-- distanza: 66.400101\n",
      "Tempo: 30-- distanza: 64.506287\n",
      "Tempo: 29-- distanza: 64.506287\n",
      "Tempo: 28-- distanza: 66.400101\n",
      "Tempo: 27-- distanza: 68.303955\n",
      "Tempo: 26-- distanza: 66.400101\n",
      "Tempo: 25-- distanza: 66.400101\n",
      "Tempo: 24-- distanza: 66.400101\n",
      "Tempo: 23-- distanza: 64.506287\n",
      "Tempo: 22-- distanza: 66.400101\n",
      "Tempo: 21-- distanza: 68.303955\n",
      "Tempo: 20-- distanza: 68.303955\n",
      "Tempo: 19-- distanza: 66.400101\n",
      "Tempo: 18-- distanza: 64.506287\n",
      "Tempo: 17-- distanza: 64.506287\n",
      "Tempo: 16-- distanza: 64.506287\n",
      "Tempo: 15-- distanza: 66.400101\n",
      "Tempo: 14-- distanza: 68.303955\n",
      "Tempo: 13-- distanza: 68.303955\n",
      "Tempo: 12-- distanza: 68.303955\n",
      "Tempo: 11-- distanza: 68.303955\n",
      "Tempo: 10-- distanza: 68.303955\n",
      "Tempo: 9-- distanza: 66.400101\n",
      "Tempo: 8-- distanza: 68.303955\n",
      "Tempo: 7-- distanza: 66.400101\n",
      "Tempo: 6-- distanza: 68.303955\n",
      "Tempo: 5-- distanza: 68.303955\n",
      "Tempo: 4-- distanza: 68.303955\n",
      "Tempo: 3-- distanza: 68.303955\n",
      "Tempo: 2-- distanza: 66.400101\n",
      "Tempo: 1-- distanza: 66.400101\n",
      "Episode:1 Score:-123.99561294\n"
     ]
    }
   ],
   "source": [
    "# giro di prova dell'exercise\n",
    "episodes = 1\n",
    "for episode in range(1, episodes+1):\n",
    "    state = SimpleRobotEnv.reset()\n",
    "    done = False\n",
    "    score = 0 \n",
    "    \n",
    "    while not done:\n",
    "        SimpleRobotEnv.render(mode=0)\n",
    "        action = SimpleRobotEnv.action_space.sample()\n",
    "        n_state, reward, done, info = SimpleRobotEnv.step(action)\n",
    "        score+=reward\n",
    "    print('Episode:{} Score:{}'.format(episode, score))"
   ]
  },
  {
   "cell_type": "code",
   "execution_count": 40,
   "metadata": {},
   "outputs": [],
   "source": [
    "from tensorflow.keras.models import Sequential\n",
    "from tensorflow.keras.layers import Dense,Flatten\n",
    "from tensorflow.keras.optimizers import Adam\n",
    "\n",
    "states = SimpleRobotEnv.observation_space.shape\n",
    "actions = SimpleRobotEnv.action_space.n\n",
    "\n",
    "def build_model(states,actions):\n",
    "    model = Sequential()\n",
    "    model.add(Dense(256,activation=\"relu\",input_shape=states))\n",
    "    model.add(Dense(256,activation=\"relu\"))\n",
    "    model.add(Dense(actions,activation=\"linear\"))\n",
    "    return model"
   ]
  },
  {
   "cell_type": "code",
   "execution_count": 42,
   "metadata": {},
   "outputs": [],
   "source": [
    "del model # da usare quando da errore sotto"
   ]
  },
  {
   "cell_type": "code",
   "execution_count": 43,
   "metadata": {},
   "outputs": [
    {
     "name": "stdout",
     "output_type": "stream",
     "text": [
      "Model: \"sequential_3\"\n",
      "_________________________________________________________________\n",
      "Layer (type)                 Output Shape              Param #   \n",
      "=================================================================\n",
      "dense_9 (Dense)              (None, 256)               512       \n",
      "_________________________________________________________________\n",
      "dense_10 (Dense)             (None, 256)               65792     \n",
      "_________________________________________________________________\n",
      "dense_11 (Dense)             (None, 3)                 771       \n",
      "=================================================================\n",
      "Total params: 67,075\n",
      "Trainable params: 67,075\n",
      "Non-trainable params: 0\n",
      "_________________________________________________________________\n"
     ]
    }
   ],
   "source": [
    "model = build_model(states,actions)\n",
    "model.summary()"
   ]
  },
  {
   "cell_type": "code",
   "execution_count": 44,
   "metadata": {},
   "outputs": [],
   "source": [
    "from rl.agents import DQNAgent\n",
    "from rl.policy import BoltzmannGumbelQPolicy\n",
    "from rl.memory import SequentialMemory\n",
    "\n",
    "def build_agent(model, actions):\n",
    "    policy = BoltzmannGumbelQPolicy()\n",
    "    memory = SequentialMemory(limit=50000,window_length=1)\n",
    "    dqn = DQNAgent(model=model, memory=memory, policy=policy, nb_actions=actions, nb_steps_warmup=10, target_model_update=1e-2)\n",
    "    \n",
    "    return dqn"
   ]
  },
  {
   "cell_type": "code",
   "execution_count": 49,
   "metadata": {},
   "outputs": [
    {
     "name": "stdout",
     "output_type": "stream",
     "text": [
      "Training for 50000 steps ...\n",
      "Interval 1 (0 steps performed)\n",
      "10000/10000 [==============================] - 179s 18ms/step - reward: -1.6802\n",
      "166 episodes - episode_reward: -101.166 [-238.763, 60.000] - loss: 41.347 - mae: 34.134 - mean_q: -43.070\n",
      "\n",
      "Interval 2 (10000 steps performed)\n",
      "10000/10000 [==============================] - 181s 18ms/step - reward: -1.3637\n",
      "167 episodes - episode_reward: -81.378 [-198.164, 57.779] - loss: 40.210 - mae: 31.271 - mean_q: -40.431\n",
      "\n",
      "Interval 3 (20000 steps performed)\n",
      "10000/10000 [==============================] - 182s 18ms/step - reward: -1.4175\n",
      "167 episodes - episode_reward: -85.209 [-184.938, 60.000] - loss: 40.035 - mae: 31.631 - mean_q: -41.692\n",
      "\n",
      "Interval 4 (30000 steps performed)\n",
      "10000/10000 [==============================] - 182s 18ms/step - reward: -1.5534\n",
      "166 episodes - episode_reward: -93.567 [-277.766, 60.000] - loss: 41.437 - mae: 31.839 - mean_q: -42.525\n",
      "\n",
      "Interval 5 (40000 steps performed)\n",
      " 7430/10000 [=====================>........] - ETA: 47s - reward: -1.5705done, took 860.263 seconds\n"
     ]
    },
    {
     "data": {
      "text/plain": [
       "<tensorflow.python.keras.callbacks.History at 0x21c17fe06d8>"
      ]
     },
     "execution_count": 49,
     "metadata": {},
     "output_type": "execute_result"
    }
   ],
   "source": [
    "dqn = build_agent(model, actions)\n",
    "dqn.compile(Adam(learning_rate=1e-3),metrics=[\"mae\"])\n",
    "dqn.fit(SimpleRobotEnv, nb_steps=50000,visualize=False,verbose=1)"
   ]
  },
  {
   "cell_type": "code",
   "execution_count": 56,
   "metadata": {},
   "outputs": [
    {
     "name": "stdout",
     "output_type": "stream",
     "text": [
      "Testing for 10 episodes ...\n",
      "Episode 1: reward: -124.720, steps: 60\n",
      "Episode 2: reward: -148.896, steps: 60\n",
      "Episode 3: reward: -83.634, steps: 60\n",
      "Episode 4: reward: -78.488, steps: 60\n",
      "Episode 5: reward: -139.435, steps: 60\n",
      "Episode 6: reward: 60.000, steps: 60\n",
      "Episode 7: reward: -157.614, steps: 60\n",
      "Episode 8: reward: -127.287, steps: 60\n",
      "Episode 9: reward: -129.329, steps: 60\n",
      "Episode 10: reward: 60.000, steps: 60\n",
      "-86.94025008300002\n"
     ]
    }
   ],
   "source": [
    "scores = dqn.test(SimpleRobotEnv, nb_episodes=10,visualize=False)\n",
    "print(np.mean(scores.history[\"episode_reward\"]))"
   ]
  },
  {
   "cell_type": "markdown",
   "metadata": {},
   "source": [
    "Chiusure varie"
   ]
  },
  {
   "cell_type": "code",
   "execution_count": null,
   "metadata": {},
   "outputs": [],
   "source": [
    "# spengo socket prima di uscire\n",
    "UE5_Socket.shutdown(socket.SHUT_RDWR)\n",
    "UE5_Socket.close()"
   ]
  },
  {
   "cell_type": "markdown",
   "metadata": {},
   "source": [
    "Codice vario utile:"
   ]
  },
  {
   "cell_type": "code",
   "execution_count": null,
   "metadata": {},
   "outputs": [
    {
     "data": {
      "text/plain": [
       "'\\nDistanzaAttuale = MandaRicevi_Robot(\\n                            UE5_Socket,\\n                            random.uniform(-230.0,230.0),\\n                            random.uniform(-230.0,230.0),\\n                            random.uniform(-230.0,230.0),\\n                            random.uniform(-230.0,230.0),\\n                            random.uniform(-230.0,230.0),\\n                            random.uniform(-230.0,230.0)\\n                            )\\n'"
      ]
     },
     "execution_count": 31,
     "metadata": {},
     "output_type": "execute_result"
    }
   ],
   "source": [
    "'''\n",
    "DistanzaAttuale = MandaRicevi_Robot(\n",
    "                            UE5_Socket,\n",
    "                            random.uniform(-230.0,230.0),\n",
    "                            random.uniform(-230.0,230.0),\n",
    "                            random.uniform(-230.0,230.0),\n",
    "                            random.uniform(-230.0,230.0),\n",
    "                            random.uniform(-230.0,230.0),\n",
    "                            random.uniform(-230.0,230.0)\n",
    "                            )\n",
    "'''"
   ]
  }
 ],
 "metadata": {
  "interpreter": {
   "hash": "04b0cf7909feb94e312965e4ad6463a8e2a10d97ff43909a0b56676f084ebc75"
  },
  "kernelspec": {
   "display_name": "Python 3.6.13 ('aaaa')",
   "language": "python",
   "name": "python3"
  },
  "language_info": {
   "codemirror_mode": {
    "name": "ipython",
    "version": 3
   },
   "file_extension": ".py",
   "mimetype": "text/x-python",
   "name": "python",
   "nbconvert_exporter": "python",
   "pygments_lexer": "ipython3",
   "version": "3.6.13"
  },
  "orig_nbformat": 4
 },
 "nbformat": 4,
 "nbformat_minor": 2
}
